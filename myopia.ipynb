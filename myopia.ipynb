{
 "cells": [
  {
   "cell_type": "code",
   "execution_count": null,
   "metadata": {},
   "outputs": [],
   "source": [
    "# Import dependencies\n",
    "import pandas as pd\n",
    "import matplotlib.pyplot as plt\n",
    "from sklearn.preprocessing import StandardScaler\n",
    "from sklearn.decomposition import PCA\n",
    "from sklearn.manifold import TSNE\n",
    "from sklearn.cluster import KMeans"
   ]
  },
  {
   "attachments": {},
   "cell_type": "markdown",
   "metadata": {},
   "source": [
    "### Part 1: Prepare the Data"
   ]
  },
  {
   "cell_type": "code",
   "execution_count": null,
   "metadata": {},
   "outputs": [],
   "source": [
    "# Read myopia.csv into a Pandas DataFrame\n",
    "myopia_df = pd.read_csv(\"myopia.csv\")\n",
    "myopia_df"
   ]
  },
  {
   "cell_type": "code",
   "execution_count": null,
   "metadata": {},
   "outputs": [],
   "source": [
    "# Store the data for the patients' Myopic results in a variable before dropping from the DataFrame\n",
    "myopic_column = myopia_df['MYOPIC']\n",
    "# myopic_column"
   ]
  },
  {
   "cell_type": "code",
   "execution_count": null,
   "metadata": {},
   "outputs": [],
   "source": [
    "# Remove the \"MYOPIC\" column from the dataset\n",
    "myopia_df.drop(columns='MYOPIC', inplace=True)\n",
    "myopia_df.head()"
   ]
  },
  {
   "cell_type": "code",
   "execution_count": null,
   "metadata": {},
   "outputs": [],
   "source": [
    "# Standardize your dataset with StandarScaler so that columns that contain larger values do not influence the outcome more than columns with smaller values\n",
    "myopia_scaled = StandardScaler().fit_transform(myopia_df)\n",
    "# print(myopia_scaled[0:618])"
   ]
  },
  {
   "attachments": {},
   "cell_type": "markdown",
   "metadata": {},
   "source": [
    "### Part 2: Apply Dimensionality Reduction"
   ]
  },
  {
   "cell_type": "code",
   "execution_count": null,
   "metadata": {},
   "outputs": [],
   "source": [
    "\"\"\"Perform dimensionality reduction with PCA\"\"\"\n",
    "\n",
    "# Initialize PCA model\n",
    "pca = PCA(n_components=0.9)\n",
    "\n",
    "# Get two principal components for the iris data.\n",
    "myopia_pca = pca.fit_transform(myopia_scaled)\n",
    "# print(myopia_pca[0:618])\n",
    "myopia_pca.shape"
   ]
  },
  {
   "attachments": {},
   "cell_type": "markdown",
   "metadata": {},
   "source": [
    "<p>\n",
    "\n",
    "- The number of features dropped from 14 columns down to 10 columnbs after performing the Principal Component Analysis\n",
    "\n",
    "</p>"
   ]
  },
  {
   "cell_type": "code",
   "execution_count": null,
   "metadata": {},
   "outputs": [],
   "source": [
    "# Transform PCA data to a DataFrame\n",
    "df_myopia_pca = pd.DataFrame(\n",
    "    data=myopia_pca, columns=[\n",
    "        \"principal component 1\",\n",
    "        \"principal component 2\",\n",
    "        \"principal component 3\",\n",
    "        \"principal component 4\",\n",
    "        \"principal component 5\",\n",
    "        \"principal component 6\",\n",
    "        \"principal component 7\",\n",
    "        \"principal component 8\",\n",
    "        \"principal component 9\",\n",
    "        \"principal component 10\"\n",
    "    ]\n",
    ")\n",
    "df_myopia_pca.head()"
   ]
  },
  {
   "cell_type": "code",
   "execution_count": null,
   "metadata": {},
   "outputs": [],
   "source": [
    "\"\"\"Further reduce the dataset dimensions with t-SNE and visually inspect the results\"\"\"\n",
    "\n",
    "# Initialize t-SNE model\n",
    "tsne = TSNE(learning_rate=35)"
   ]
  },
  {
   "cell_type": "code",
   "execution_count": null,
   "metadata": {},
   "outputs": [],
   "source": [
    "# Further reduce dimensions and inspect the results\n",
    "tsne_features = tsne.fit_transform(df_myopia_pca)\n",
    "\n",
    "tsne_features.shape"
   ]
  },
  {
   "cell_type": "code",
   "execution_count": null,
   "metadata": {},
   "outputs": [],
   "source": [
    "# Prepare to plot the dataset\n",
    "\n",
    "# The first column of transformed features\n",
    "# df_myopia_pca['x'] = tsne_features[:,0]\n",
    "\n",
    "# The second column of transformed features\n",
    "# df_myopia_pca['y'] = tsne_features[:,1]\n",
    "\n",
    "# Visualize the clusters\n",
    "plt.scatter(tsne_features[:,0], tsne_features[:,1])\n",
    "plt.show()"
   ]
  },
  {
   "cell_type": "code",
   "execution_count": null,
   "metadata": {},
   "outputs": [],
   "source": [
    "# Visualize the clusters with color\n",
    "plt.scatter(tsne_features[:,0], tsne_features[:,1], c=myopic_column)\n",
    "plt.show()"
   ]
  },
  {
   "attachments": {},
   "cell_type": "markdown",
   "metadata": {},
   "source": [
    "<p>\n",
    "\n",
    "- After reducing the dimensions down to 10 using PCA and using t-SNE to give each data point a location in a two-dimensional map there does not appear to be any distinct clusters based on our data.\n",
    "\n",
    "</p>"
   ]
  },
  {
   "attachments": {},
   "cell_type": "markdown",
   "metadata": {},
   "source": [
    "### Part 3: Perform a Cluster Analysis with K-means"
   ]
  },
  {
   "cell_type": "code",
   "execution_count": null,
   "metadata": {},
   "outputs": [],
   "source": [
    "\"\"\"Create an elbow plot to identify the best number of clusters\"\"\"\n",
    "\n",
    "inertia = []\n",
    "k = [1,2,3,4,5,6,7,8,9,10]\n",
    "\n",
    "\n",
    "# Looking for the best k\n",
    "for i in k:\n",
    "    km = KMeans(n_clusters=i, random_state=0)\n",
    "    km.fit(df_myopia_pca)\n",
    "    inertia.append(km.inertia_)\n",
    "\n",
    "# Define a DataFrame to plot the Elbow Curve using hvPlot\n",
    "elbow_data = {\"k\": k, \"inertia\": inertia}\n",
    "df_elbow = pd.DataFrame(elbow_data)\n",
    "\n",
    "plt.plot(df_elbow['k'], df_elbow['inertia'])\n",
    "plt.xticks(range(1,11))\n",
    "plt.xlabel('Number of clusters')\n",
    "plt.ylabel('Inertia')\n",
    "plt.show()"
   ]
  },
  {
   "cell_type": "code",
   "execution_count": null,
   "metadata": {},
   "outputs": [],
   "source": [
    "# Identify the best number of clusters using the elbow curve\n",
    "elbow_data = {\"k\": k, \"inertia\": inertia}\n",
    "df_elbow = pd.DataFrame(elbow_data)\n",
    "df_elbow.head()"
   ]
  },
  {
   "attachments": {},
   "cell_type": "markdown",
   "metadata": {},
   "source": [
    "<p>It appears that the elbow of the plot is at k=3</p>"
   ]
  },
  {
   "cell_type": "code",
   "execution_count": null,
   "metadata": {},
   "outputs": [],
   "source": [
    "\"\"\"Predicting clusters with k=3\"\"\"\n",
    "\n",
    "# Initialize the K-Means model\n",
    "model = KMeans(n_clusters=3, random_state=0)\n",
    "\n",
    "# Train the model\n",
    "model.fit(df_myopia_pca)\n",
    "\n",
    "# Predict clusters\n",
    "predictions = model.predict(df_myopia_pca)\n",
    "# print(predictions)\n",
    "\n",
    "# Create return DataFrame with predicted clusters\n",
    "df_myopia_pca[\"class\"] = model.labels_\n",
    "\n",
    "df_myopia_pca.head()"
   ]
  },
  {
   "cell_type": "code",
   "execution_count": null,
   "metadata": {},
   "outputs": [],
   "source": [
    "# Visualize the clusters\n",
    "plt.scatter(df_myopia_pca['principal component 1'], df_myopia_pca['principal component 2'], c=df_myopia_pca['class'])\n",
    "plt.xlabel('Principal component 1')\n",
    "plt.ylabel('Principal component 2')\n",
    "plt.title('Myopia Clusters')\n",
    "plt.show()"
   ]
  },
  {
   "cell_type": "code",
   "execution_count": null,
   "metadata": {},
   "outputs": [],
   "source": [
    "# Plot the clusters for each Prinicpal Component visualized against the other Prinicpal Components\n",
    "# for i in range(1, 11):\n",
    "#     for j in range(i+1, 11):\n",
    "#         if (i != j):\n",
    "#             plt.scatter(df_myopia_pca[f'principal component {i}'], df_myopia_pca[f'principal component {j}'], c=df_myopia_pca['class'])\n",
    "#             plt.xlabel(f'Principal component {i}')\n",
    "#             plt.ylabel(f'Principal component {j}')\n",
    "#             plt.title('Myopia Clusters')\n",
    "#             plt.show()"
   ]
  },
  {
   "attachments": {},
   "cell_type": "markdown",
   "metadata": {},
   "source": [
    "### Part 4: Make a Recommendation"
   ]
  },
  {
   "attachments": {},
   "cell_type": "markdown",
   "metadata": {},
   "source": [
    "<p>\n",
    "\n",
    "- Using Principal Component Analysis and K-Means we can see that there appears to be 3 distinct clusters. These clusters represent certain characteristics that are better at determining whether or not a patient has Myopia. This data could be very useful for doctors to know to better help determine if their patients have or could be at risk of developing Myopia (nearsightedness).\n",
    "\n",
    "</p>"
   ]
  }
 ],
 "metadata": {
  "kernelspec": {
   "display_name": "Python 3",
   "language": "python",
   "name": "python3"
  },
  "language_info": {
   "codemirror_mode": {
    "name": "ipython",
    "version": 3
   },
   "file_extension": ".py",
   "mimetype": "text/x-python",
   "name": "python",
   "nbconvert_exporter": "python",
   "pygments_lexer": "ipython3",
   "version": "3.7.7"
  },
  "orig_nbformat": 4
 },
 "nbformat": 4,
 "nbformat_minor": 2
}
